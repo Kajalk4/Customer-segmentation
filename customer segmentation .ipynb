{
 "cells": [
  {
   "cell_type": "markdown",
   "id": "33ca641b",
   "metadata": {
    "papermill": {
     "duration": 0.017959,
     "end_time": "2021-12-26T17:29:36.590916",
     "exception": false,
     "start_time": "2021-12-26T17:29:36.572957",
     "status": "completed"
    },
    "tags": []
   },
   "source": []
  },
  {
   "cell_type": "code",
   "execution_count": 1,
   "id": "9409a746",
   "metadata": {
    "_cell_guid": "b1076dfc-b9ad-4769-8c92-a6c4dae69d19",
    "_uuid": "8f2839f25d086af736a60e9eeb907d3b93b6e0e5",
    "execution": {
     "iopub.execute_input": "2021-12-26T17:29:36.636022Z",
     "iopub.status.busy": "2021-12-26T17:29:36.632262Z",
     "iopub.status.idle": "2021-12-26T17:29:37.618931Z",
     "shell.execute_reply": "2021-12-26T17:29:37.619769Z"
    },
    "papermill": {
     "duration": 1.012284,
     "end_time": "2021-12-26T17:29:37.620162",
     "exception": false,
     "start_time": "2021-12-26T17:29:36.607878",
     "status": "completed"
    },
    "tags": []
   },
   "outputs": [],
   "source": [
    "#Import libraries\n",
    "import datetime as dt\n",
    "import numpy as np\n",
    "import pandas as pd\n",
    "import matplotlib.pyplot as plt\n",
    "import seaborn as sns\n",
    "import warnings \n",
    "warnings.filterwarnings(\"ignore\")\n",
    "\n",
    "\n"
   ]
  },
  {
   "cell_type": "code",
   "execution_count": 2,
   "id": "f6d33eb7",
   "metadata": {},
   "outputs": [
    {
     "data": {
      "text/html": [
       "<div>\n",
       "<style scoped>\n",
       "    .dataframe tbody tr th:only-of-type {\n",
       "        vertical-align: middle;\n",
       "    }\n",
       "\n",
       "    .dataframe tbody tr th {\n",
       "        vertical-align: top;\n",
       "    }\n",
       "\n",
       "    .dataframe thead th {\n",
       "        text-align: right;\n",
       "    }\n",
       "</style>\n",
       "<table border=\"1\" class=\"dataframe\">\n",
       "  <thead>\n",
       "    <tr style=\"text-align: right;\">\n",
       "      <th></th>\n",
       "      <th>InvoiceNo</th>\n",
       "      <th>StockCode</th>\n",
       "      <th>Description</th>\n",
       "      <th>Quantity</th>\n",
       "      <th>InvoiceDate</th>\n",
       "      <th>UnitPrice</th>\n",
       "      <th>CustomerID</th>\n",
       "      <th>Country</th>\n",
       "    </tr>\n",
       "  </thead>\n",
       "  <tbody>\n",
       "    <tr>\n",
       "      <th>0</th>\n",
       "      <td>536365</td>\n",
       "      <td>85123A</td>\n",
       "      <td>WHITE HANGING HEART T-LIGHT HOLDER</td>\n",
       "      <td>6</td>\n",
       "      <td>12/1/2010 8:26</td>\n",
       "      <td>2.55</td>\n",
       "      <td>17850</td>\n",
       "      <td>United Kingdom</td>\n",
       "    </tr>\n",
       "    <tr>\n",
       "      <th>1</th>\n",
       "      <td>536365</td>\n",
       "      <td>71053</td>\n",
       "      <td>WHITE METAL LANTERN</td>\n",
       "      <td>6</td>\n",
       "      <td>12/1/2010 8:26</td>\n",
       "      <td>3.39</td>\n",
       "      <td>17850</td>\n",
       "      <td>United Kingdom</td>\n",
       "    </tr>\n",
       "    <tr>\n",
       "      <th>2</th>\n",
       "      <td>536365</td>\n",
       "      <td>84406B</td>\n",
       "      <td>CREAM CUPID HEARTS COAT HANGER</td>\n",
       "      <td>8</td>\n",
       "      <td>12/1/2010 8:26</td>\n",
       "      <td>2.75</td>\n",
       "      <td>17850</td>\n",
       "      <td>United Kingdom</td>\n",
       "    </tr>\n",
       "    <tr>\n",
       "      <th>3</th>\n",
       "      <td>536365</td>\n",
       "      <td>84029G</td>\n",
       "      <td>KNITTED UNION FLAG HOT WATER BOTTLE</td>\n",
       "      <td>6</td>\n",
       "      <td>12/1/2010 8:26</td>\n",
       "      <td>3.39</td>\n",
       "      <td>17850</td>\n",
       "      <td>United Kingdom</td>\n",
       "    </tr>\n",
       "    <tr>\n",
       "      <th>4</th>\n",
       "      <td>536365</td>\n",
       "      <td>84029E</td>\n",
       "      <td>RED WOOLLY HOTTIE WHITE HEART.</td>\n",
       "      <td>6</td>\n",
       "      <td>12/1/2010 8:26</td>\n",
       "      <td>3.39</td>\n",
       "      <td>17850</td>\n",
       "      <td>United Kingdom</td>\n",
       "    </tr>\n",
       "  </tbody>\n",
       "</table>\n",
       "</div>"
      ],
      "text/plain": [
       "  InvoiceNo StockCode                          Description  Quantity  \\\n",
       "0    536365    85123A   WHITE HANGING HEART T-LIGHT HOLDER         6   \n",
       "1    536365     71053                  WHITE METAL LANTERN         6   \n",
       "2    536365    84406B       CREAM CUPID HEARTS COAT HANGER         8   \n",
       "3    536365    84029G  KNITTED UNION FLAG HOT WATER BOTTLE         6   \n",
       "4    536365    84029E       RED WOOLLY HOTTIE WHITE HEART.         6   \n",
       "\n",
       "      InvoiceDate  UnitPrice CustomerID         Country  \n",
       "0  12/1/2010 8:26       2.55      17850  United Kingdom  \n",
       "1  12/1/2010 8:26       3.39      17850  United Kingdom  \n",
       "2  12/1/2010 8:26       2.75      17850  United Kingdom  \n",
       "3  12/1/2010 8:26       3.39      17850  United Kingdom  \n",
       "4  12/1/2010 8:26       3.39      17850  United Kingdom  "
      ]
     },
     "execution_count": 2,
     "metadata": {},
     "output_type": "execute_result"
    }
   ],
   "source": [
    "df=pd.read_csv('data.csv',encoding='ISO-8859-1',dtype={'CustomerID': str,'InvoiceID': str})\n",
    "df.head()"
   ]
  },
  {
   "cell_type": "markdown",
   "id": "cb839f07",
   "metadata": {
    "papermill": {
     "duration": 0.020642,
     "end_time": "2021-12-26T17:31:17.877667",
     "exception": false,
     "start_time": "2021-12-26T17:31:17.857025",
     "status": "completed"
    },
    "tags": []
   },
   "source": [
    "# **Data Preparation and Preprocessing**"
   ]
  },
  {
   "cell_type": "code",
   "execution_count": 3,
   "id": "fcc5efb4",
   "metadata": {
    "execution": {
     "iopub.execute_input": "2021-12-26T17:31:17.944771Z",
     "iopub.status.busy": "2021-12-26T17:31:17.943782Z",
     "iopub.status.idle": "2021-12-26T17:31:18.023780Z",
     "shell.execute_reply": "2021-12-26T17:31:18.022807Z"
    },
    "papermill": {
     "duration": 0.125496,
     "end_time": "2021-12-26T17:31:18.024004",
     "exception": false,
     "start_time": "2021-12-26T17:31:17.898508",
     "status": "completed"
    },
    "tags": []
   },
   "outputs": [
    {
     "name": "stdout",
     "output_type": "stream",
     "text": [
      "################ Shape ####################\n",
      "(541909, 8)\n",
      "############### Columns ###################\n",
      "Index(['InvoiceNo', 'StockCode', 'Description', 'Quantity', 'InvoiceDate',\n",
      "       'UnitPrice', 'CustomerID', 'Country'],\n",
      "      dtype='object')\n",
      "############### Types #####################\n",
      "InvoiceNo       object\n",
      "StockCode       object\n",
      "Description     object\n",
      "Quantity         int64\n",
      "InvoiceDate     object\n",
      "UnitPrice      float64\n",
      "CustomerID      object\n",
      "Country         object\n",
      "dtype: object\n",
      "############### Head ######################\n",
      "  InvoiceNo StockCode                          Description  Quantity  \\\n",
      "0    536365    85123A   WHITE HANGING HEART T-LIGHT HOLDER         6   \n",
      "1    536365     71053                  WHITE METAL LANTERN         6   \n",
      "2    536365    84406B       CREAM CUPID HEARTS COAT HANGER         8   \n",
      "3    536365    84029G  KNITTED UNION FLAG HOT WATER BOTTLE         6   \n",
      "4    536365    84029E       RED WOOLLY HOTTIE WHITE HEART.         6   \n",
      "\n",
      "      InvoiceDate  UnitPrice CustomerID         Country  \n",
      "0  12/1/2010 8:26       2.55      17850  United Kingdom  \n",
      "1  12/1/2010 8:26       3.39      17850  United Kingdom  \n",
      "2  12/1/2010 8:26       2.75      17850  United Kingdom  \n",
      "3  12/1/2010 8:26       3.39      17850  United Kingdom  \n",
      "4  12/1/2010 8:26       3.39      17850  United Kingdom  \n",
      "############### Tail ######################\n",
      "       InvoiceNo StockCode                      Description  Quantity  \\\n",
      "541904    581587     22613      PACK OF 20 SPACEBOY NAPKINS        12   \n",
      "541905    581587     22899     CHILDREN'S APRON DOLLY GIRL          6   \n",
      "541906    581587     23254    CHILDRENS CUTLERY DOLLY GIRL          4   \n",
      "541907    581587     23255  CHILDRENS CUTLERY CIRCUS PARADE         4   \n",
      "541908    581587     22138    BAKING SET 9 PIECE RETROSPOT          3   \n",
      "\n",
      "            InvoiceDate  UnitPrice CustomerID Country  \n",
      "541904  12/9/2011 12:50       0.85      12680  France  \n",
      "541905  12/9/2011 12:50       2.10      12680  France  \n",
      "541906  12/9/2011 12:50       4.15      12680  France  \n",
      "541907  12/9/2011 12:50       4.15      12680  France  \n",
      "541908  12/9/2011 12:50       4.95      12680  France  \n",
      "############### Describe ###################\n",
      "              count      mean         std       min   25%   50%    75%  \\\n",
      "Quantity   541909.0  9.552250  218.081158 -80995.00  1.00  3.00  10.00   \n",
      "UnitPrice  541909.0  4.611114   96.759853 -11062.06  1.25  2.08   4.13   \n",
      "\n",
      "               max  \n",
      "Quantity   80995.0  \n",
      "UnitPrice  38970.0  \n"
     ]
    }
   ],
   "source": [
    "def check_df(dataframe):\n",
    "    print(\"################ Shape ####################\")\n",
    "    print(dataframe.shape)\n",
    "    print(\"############### Columns ###################\")\n",
    "    print(dataframe.columns)\n",
    "    print(\"############### Types #####################\")\n",
    "    print(dataframe.dtypes)\n",
    "    print(\"############### Head ######################\")\n",
    "    print(dataframe.head())\n",
    "    print(\"############### Tail ######################\")\n",
    "    print(dataframe.tail())\n",
    "    print(\"############### Describe ###################\")\n",
    "    print(dataframe.describe().T)\n",
    "\n",
    "check_df(df)"
   ]
  },
  {
   "cell_type": "markdown",
   "id": "ce85e03a",
   "metadata": {
    "papermill": {
     "duration": 0.021146,
     "end_time": "2021-12-26T17:31:18.068498",
     "exception": false,
     "start_time": "2021-12-26T17:31:18.047352",
     "status": "completed"
    },
    "tags": []
   },
   "source": [
    "# **Answering Some Questions About Data**"
   ]
  },
  {
   "cell_type": "code",
   "execution_count": 4,
   "id": "2690fb98",
   "metadata": {
    "execution": {
     "iopub.execute_input": "2021-12-26T17:31:18.119863Z",
     "iopub.status.busy": "2021-12-26T17:31:18.118699Z",
     "iopub.status.idle": "2021-12-26T17:31:18.373488Z",
     "shell.execute_reply": "2021-12-26T17:31:18.372813Z"
    },
    "papermill": {
     "duration": 0.283391,
     "end_time": "2021-12-26T17:31:18.373682",
     "exception": false,
     "start_time": "2021-12-26T17:31:18.090291",
     "status": "completed"
    },
    "tags": []
   },
   "outputs": [
    {
     "data": {
      "text/plain": [
       "InvoiceNo           0\n",
       "StockCode           0\n",
       "Description      1454\n",
       "Quantity            0\n",
       "InvoiceDate         0\n",
       "UnitPrice           0\n",
       "CustomerID     135080\n",
       "Country             0\n",
       "dtype: int64"
      ]
     },
     "execution_count": 4,
     "metadata": {},
     "output_type": "execute_result"
    }
   ],
   "source": [
    "#Are there any missing observations in the dataset?\n",
    "df.isnull().sum()"
   ]
  },
  {
   "cell_type": "code",
   "execution_count": 5,
   "id": "4a3ec5fd",
   "metadata": {
    "execution": {
     "iopub.execute_input": "2021-12-26T17:31:18.426177Z",
     "iopub.status.busy": "2021-12-26T17:31:18.425238Z",
     "iopub.status.idle": "2021-12-26T17:31:18.725727Z",
     "shell.execute_reply": "2021-12-26T17:31:18.725122Z"
    },
    "papermill": {
     "duration": 0.330134,
     "end_time": "2021-12-26T17:31:18.725881",
     "exception": false,
     "start_time": "2021-12-26T17:31:18.395747",
     "status": "completed"
    },
    "tags": []
   },
   "outputs": [],
   "source": [
    "#Remove the missing observations from the dataset\n",
    "df.dropna(inplace=True)"
   ]
  },
  {
   "cell_type": "code",
   "execution_count": 6,
   "id": "a5079e1f",
   "metadata": {
    "execution": {
     "iopub.execute_input": "2021-12-26T17:31:18.802254Z",
     "iopub.status.busy": "2021-12-26T17:31:18.801572Z",
     "iopub.status.idle": "2021-12-26T17:31:18.837631Z",
     "shell.execute_reply": "2021-12-26T17:31:18.836962Z"
    },
    "papermill": {
     "duration": 0.089368,
     "end_time": "2021-12-26T17:31:18.837775",
     "exception": false,
     "start_time": "2021-12-26T17:31:18.748407",
     "status": "completed"
    },
    "tags": []
   },
   "outputs": [
    {
     "data": {
      "text/plain": [
       "3896"
      ]
     },
     "execution_count": 6,
     "metadata": {},
     "output_type": "execute_result"
    }
   ],
   "source": [
    "#How many unique items in the dataset?\n",
    "df[\"Description\"].nunique()"
   ]
  },
  {
   "cell_type": "code",
   "execution_count": 7,
   "id": "fc8cfd1a",
   "metadata": {
    "execution": {
     "iopub.execute_input": "2021-12-26T17:31:18.936948Z",
     "iopub.status.busy": "2021-12-26T17:31:18.936256Z",
     "iopub.status.idle": "2021-12-26T17:31:18.946372Z",
     "shell.execute_reply": "2021-12-26T17:31:18.945757Z"
    },
    "papermill": {
     "duration": 0.086337,
     "end_time": "2021-12-26T17:31:18.946552",
     "exception": false,
     "start_time": "2021-12-26T17:31:18.860215",
     "status": "completed"
    },
    "tags": []
   },
   "outputs": [
    {
     "data": {
      "text/plain": [
       "WHITE HANGING HEART T-LIGHT HOLDER    2070\n",
       "REGENCY CAKESTAND 3 TIER              1905\n",
       "JUMBO BAG RED RETROSPOT               1662\n",
       "ASSORTED COLOUR BIRD ORNAMENT         1418\n",
       "PARTY BUNTING                         1416\n",
       "                                      ... \n",
       "ANTIQUE RASPBERRY FLOWER EARRINGS        1\n",
       "WALL ART,ONLY ONE PERSON                 1\n",
       "GOLD/AMBER DROP EARRINGS W LEAF          1\n",
       "INCENSE BAZAAR PEACH                     1\n",
       "PINK BAROQUE FLOCK CANDLE HOLDER         1\n",
       "Name: Description, Length: 3896, dtype: int64"
      ]
     },
     "execution_count": 7,
     "metadata": {},
     "output_type": "execute_result"
    }
   ],
   "source": [
    "#How many product in the dataset?\n",
    "df[\"Description\"].value_counts()"
   ]
  },
  {
   "cell_type": "code",
   "execution_count": 8,
   "id": "457040a4",
   "metadata": {
    "execution": {
     "iopub.execute_input": "2021-12-26T17:31:19.003547Z",
     "iopub.status.busy": "2021-12-26T17:31:19.002514Z",
     "iopub.status.idle": "2021-12-26T17:31:19.093896Z",
     "shell.execute_reply": "2021-12-26T17:31:19.093284Z"
    },
    "papermill": {
     "duration": 0.12111,
     "end_time": "2021-12-26T17:31:19.094071",
     "exception": false,
     "start_time": "2021-12-26T17:31:18.972961",
     "status": "completed"
    },
    "tags": []
   },
   "outputs": [
    {
     "data": {
      "text/html": [
       "<div>\n",
       "<style scoped>\n",
       "    .dataframe tbody tr th:only-of-type {\n",
       "        vertical-align: middle;\n",
       "    }\n",
       "\n",
       "    .dataframe tbody tr th {\n",
       "        vertical-align: top;\n",
       "    }\n",
       "\n",
       "    .dataframe thead th {\n",
       "        text-align: right;\n",
       "    }\n",
       "</style>\n",
       "<table border=\"1\" class=\"dataframe\">\n",
       "  <thead>\n",
       "    <tr style=\"text-align: right;\">\n",
       "      <th></th>\n",
       "      <th>Quantity</th>\n",
       "    </tr>\n",
       "    <tr>\n",
       "      <th>Description</th>\n",
       "      <th></th>\n",
       "    </tr>\n",
       "  </thead>\n",
       "  <tbody>\n",
       "    <tr>\n",
       "      <th>WORLD WAR 2 GLIDERS ASSTD DESIGNS</th>\n",
       "      <td>53215</td>\n",
       "    </tr>\n",
       "    <tr>\n",
       "      <th>JUMBO BAG RED RETROSPOT</th>\n",
       "      <td>45066</td>\n",
       "    </tr>\n",
       "    <tr>\n",
       "      <th>ASSORTED COLOUR BIRD ORNAMENT</th>\n",
       "      <td>35314</td>\n",
       "    </tr>\n",
       "    <tr>\n",
       "      <th>WHITE HANGING HEART T-LIGHT HOLDER</th>\n",
       "      <td>34147</td>\n",
       "    </tr>\n",
       "    <tr>\n",
       "      <th>PACK OF 72 RETROSPOT CAKE CASES</th>\n",
       "      <td>33409</td>\n",
       "    </tr>\n",
       "  </tbody>\n",
       "</table>\n",
       "</div>"
      ],
      "text/plain": [
       "                                    Quantity\n",
       "Description                                 \n",
       "WORLD WAR 2 GLIDERS ASSTD DESIGNS      53215\n",
       "JUMBO BAG RED RETROSPOT                45066\n",
       "ASSORTED COLOUR BIRD ORNAMENT          35314\n",
       "WHITE HANGING HEART T-LIGHT HOLDER     34147\n",
       "PACK OF 72 RETROSPOT CAKE CASES        33409"
      ]
     },
     "execution_count": 8,
     "metadata": {},
     "output_type": "execute_result"
    }
   ],
   "source": [
    "#Rank the 5 most ordered products from most to least\n",
    "df.groupby(\"Description\").agg({\"Quantity\":\"sum\"}).sort_values(\"Quantity\", ascending=False).head(5)"
   ]
  },
  {
   "cell_type": "code",
   "execution_count": 11,
   "id": "0118ce0d",
   "metadata": {
    "execution": {
     "iopub.execute_input": "2021-12-26T17:31:19.196133Z",
     "iopub.status.busy": "2021-12-26T17:31:19.195464Z",
     "iopub.status.idle": "2021-12-26T17:31:19.882527Z",
     "shell.execute_reply": "2021-12-26T17:31:19.881897Z"
    },
    "papermill": {
     "duration": 0.763392,
     "end_time": "2021-12-26T17:31:19.882719",
     "exception": false,
     "start_time": "2021-12-26T17:31:19.119327",
     "status": "completed"
    },
    "tags": []
   },
   "outputs": [],
   "source": [
    "#Remove the canceled transactions from the dataset\n",
    "df = df[~df[\"InvoiceNo\"].str.contains(\"C\", na=False)]"
   ]
  },
  {
   "cell_type": "code",
   "execution_count": 12,
   "id": "63a331eb",
   "metadata": {
    "execution": {
     "iopub.execute_input": "2021-12-26T17:31:19.936623Z",
     "iopub.status.busy": "2021-12-26T17:31:19.935621Z",
     "iopub.status.idle": "2021-12-26T17:31:19.944137Z",
     "shell.execute_reply": "2021-12-26T17:31:19.944753Z"
    },
    "papermill": {
     "duration": 0.037556,
     "end_time": "2021-12-26T17:31:19.944960",
     "exception": false,
     "start_time": "2021-12-26T17:31:19.907404",
     "status": "completed"
    },
    "tags": []
   },
   "outputs": [],
   "source": [
    "#The total amount of each invoice and we create that column just multiply 'Price' and 'Quantity'\n",
    "df[\"TotalPrice\"] = df[\"Quantity\"] * df[\"UnitPrice\"]"
   ]
  },
  {
   "cell_type": "markdown",
   "id": "4b599fca",
   "metadata": {
    "papermill": {
     "duration": 0.02386,
     "end_time": "2021-12-26T17:31:19.992916",
     "exception": false,
     "start_time": "2021-12-26T17:31:19.969056",
     "status": "completed"
    },
    "tags": []
   },
   "source": [
    "# **Calculating of RFM Metrics**"
   ]
  },
  {
   "cell_type": "code",
   "execution_count": 16,
   "id": "14bd59ba",
   "metadata": {
    "execution": {
     "iopub.execute_input": "2021-12-26T17:31:20.046372Z",
     "iopub.status.busy": "2021-12-26T17:31:20.045335Z",
     "iopub.status.idle": "2021-12-26T17:31:21.226913Z",
     "shell.execute_reply": "2021-12-26T17:31:21.226195Z"
    },
    "papermill": {
     "duration": 1.209555,
     "end_time": "2021-12-26T17:31:21.227080",
     "exception": false,
     "start_time": "2021-12-26T17:31:20.017525",
     "status": "completed"
    },
    "tags": []
   },
   "outputs": [
    {
     "data": {
      "text/html": [
       "<div>\n",
       "<style scoped>\n",
       "    .dataframe tbody tr th:only-of-type {\n",
       "        vertical-align: middle;\n",
       "    }\n",
       "\n",
       "    .dataframe tbody tr th {\n",
       "        vertical-align: top;\n",
       "    }\n",
       "\n",
       "    .dataframe thead th {\n",
       "        text-align: right;\n",
       "    }\n",
       "</style>\n",
       "<table border=\"1\" class=\"dataframe\">\n",
       "  <thead>\n",
       "    <tr style=\"text-align: right;\">\n",
       "      <th></th>\n",
       "      <th>count</th>\n",
       "      <th>mean</th>\n",
       "      <th>std</th>\n",
       "      <th>min</th>\n",
       "      <th>25%</th>\n",
       "      <th>50%</th>\n",
       "      <th>75%</th>\n",
       "      <th>max</th>\n",
       "    </tr>\n",
       "  </thead>\n",
       "  <tbody>\n",
       "    <tr>\n",
       "      <th>Recency</th>\n",
       "      <td>4338.0</td>\n",
       "      <td>93.059474</td>\n",
       "      <td>100.012264</td>\n",
       "      <td>1.00</td>\n",
       "      <td>18.000</td>\n",
       "      <td>51.000</td>\n",
       "      <td>142.75</td>\n",
       "      <td>374.00</td>\n",
       "    </tr>\n",
       "    <tr>\n",
       "      <th>Frequency</th>\n",
       "      <td>4338.0</td>\n",
       "      <td>4.272706</td>\n",
       "      <td>7.706221</td>\n",
       "      <td>1.00</td>\n",
       "      <td>1.000</td>\n",
       "      <td>2.000</td>\n",
       "      <td>5.00</td>\n",
       "      <td>210.00</td>\n",
       "    </tr>\n",
       "    <tr>\n",
       "      <th>Monetary</th>\n",
       "      <td>4338.0</td>\n",
       "      <td>2054.266460</td>\n",
       "      <td>8989.230441</td>\n",
       "      <td>3.75</td>\n",
       "      <td>307.415</td>\n",
       "      <td>674.485</td>\n",
       "      <td>1661.74</td>\n",
       "      <td>280206.02</td>\n",
       "    </tr>\n",
       "  </tbody>\n",
       "</table>\n",
       "</div>"
      ],
      "text/plain": [
       "            count         mean          std   min      25%      50%      75%  \\\n",
       "Recency    4338.0    93.059474   100.012264  1.00   18.000   51.000   142.75   \n",
       "Frequency  4338.0     4.272706     7.706221  1.00    1.000    2.000     5.00   \n",
       "Monetary   4338.0  2054.266460  8989.230441  3.75  307.415  674.485  1661.74   \n",
       "\n",
       "                 max  \n",
       "Recency       374.00  \n",
       "Frequency     210.00  \n",
       "Monetary   280206.02  "
      ]
     },
     "execution_count": 16,
     "metadata": {},
     "output_type": "execute_result"
    }
   ],
   "source": [
    "#Determining the analysis date for the recency \n",
    "df['InvoiceDate'] = pd.to_datetime(df['InvoiceDate'])\n",
    "df[\"InvoiceDate\"].max()\n",
    "today_date = dt.datetime(2011, 12, 11)\n",
    "rfm = df.groupby('CustomerID').agg({'InvoiceDate': lambda date: (today_date - date.max()).days,\n",
    "                                     'InvoiceNo': lambda num: num.nunique(),\n",
    "                                     'TotalPrice': lambda TotalPrice: TotalPrice.sum()})\n",
    "rfm.columns=[\"Recency\",\"Frequency\",\"Monetary\"]\n",
    "rfm = rfm[rfm[\"Monetary\"] > 0]\n",
    "rfm.describe().T"
   ]
  },
  {
   "cell_type": "markdown",
   "id": "784d4ab7",
   "metadata": {
    "papermill": {
     "duration": 0.024294,
     "end_time": "2021-12-26T17:31:21.277510",
     "exception": false,
     "start_time": "2021-12-26T17:31:21.253216",
     "status": "completed"
    },
    "tags": []
   },
   "source": [
    "# **Converting RFM Scores to Single Variable**\n"
   ]
  },
  {
   "cell_type": "code",
   "execution_count": 17,
   "id": "b494b49b",
   "metadata": {
    "execution": {
     "iopub.execute_input": "2021-12-26T17:31:21.335583Z",
     "iopub.status.busy": "2021-12-26T17:31:21.334487Z",
     "iopub.status.idle": "2021-12-26T17:31:21.359324Z",
     "shell.execute_reply": "2021-12-26T17:31:21.359913Z"
    },
    "papermill": {
     "duration": 0.057913,
     "end_time": "2021-12-26T17:31:21.360108",
     "exception": false,
     "start_time": "2021-12-26T17:31:21.302195",
     "status": "completed"
    },
    "tags": []
   },
   "outputs": [
    {
     "data": {
      "text/html": [
       "<div>\n",
       "<style scoped>\n",
       "    .dataframe tbody tr th:only-of-type {\n",
       "        vertical-align: middle;\n",
       "    }\n",
       "\n",
       "    .dataframe tbody tr th {\n",
       "        vertical-align: top;\n",
       "    }\n",
       "\n",
       "    .dataframe thead th {\n",
       "        text-align: right;\n",
       "    }\n",
       "</style>\n",
       "<table border=\"1\" class=\"dataframe\">\n",
       "  <thead>\n",
       "    <tr style=\"text-align: right;\">\n",
       "      <th></th>\n",
       "      <th>Recency</th>\n",
       "      <th>Frequency</th>\n",
       "      <th>Monetary</th>\n",
       "      <th>recency_score</th>\n",
       "      <th>frequency_score</th>\n",
       "      <th>monetary_score</th>\n",
       "    </tr>\n",
       "    <tr>\n",
       "      <th>CustomerID</th>\n",
       "      <th></th>\n",
       "      <th></th>\n",
       "      <th></th>\n",
       "      <th></th>\n",
       "      <th></th>\n",
       "      <th></th>\n",
       "    </tr>\n",
       "  </thead>\n",
       "  <tbody>\n",
       "    <tr>\n",
       "      <th>12346</th>\n",
       "      <td>326</td>\n",
       "      <td>1</td>\n",
       "      <td>77183.60</td>\n",
       "      <td>1</td>\n",
       "      <td>1</td>\n",
       "      <td>5</td>\n",
       "    </tr>\n",
       "    <tr>\n",
       "      <th>12347</th>\n",
       "      <td>3</td>\n",
       "      <td>7</td>\n",
       "      <td>4310.00</td>\n",
       "      <td>5</td>\n",
       "      <td>5</td>\n",
       "      <td>5</td>\n",
       "    </tr>\n",
       "    <tr>\n",
       "      <th>12348</th>\n",
       "      <td>76</td>\n",
       "      <td>4</td>\n",
       "      <td>1797.24</td>\n",
       "      <td>2</td>\n",
       "      <td>4</td>\n",
       "      <td>4</td>\n",
       "    </tr>\n",
       "    <tr>\n",
       "      <th>12349</th>\n",
       "      <td>19</td>\n",
       "      <td>1</td>\n",
       "      <td>1757.55</td>\n",
       "      <td>4</td>\n",
       "      <td>1</td>\n",
       "      <td>4</td>\n",
       "    </tr>\n",
       "    <tr>\n",
       "      <th>12350</th>\n",
       "      <td>311</td>\n",
       "      <td>1</td>\n",
       "      <td>334.40</td>\n",
       "      <td>1</td>\n",
       "      <td>1</td>\n",
       "      <td>2</td>\n",
       "    </tr>\n",
       "  </tbody>\n",
       "</table>\n",
       "</div>"
      ],
      "text/plain": [
       "            Recency  Frequency  Monetary recency_score frequency_score  \\\n",
       "CustomerID                                                               \n",
       "12346           326          1  77183.60             1               1   \n",
       "12347             3          7   4310.00             5               5   \n",
       "12348            76          4   1797.24             2               4   \n",
       "12349            19          1   1757.55             4               1   \n",
       "12350           311          1    334.40             1               1   \n",
       "\n",
       "           monetary_score  \n",
       "CustomerID                 \n",
       "12346                   5  \n",
       "12347                   5  \n",
       "12348                   4  \n",
       "12349                   4  \n",
       "12350                   2  "
      ]
     },
     "execution_count": 17,
     "metadata": {},
     "output_type": "execute_result"
    }
   ],
   "source": [
    "#Date from customer's last purchase.The nearest date gets 5 and the furthest date gets 1.\n",
    "rfm[\"recency_score\"] = pd.qcut(rfm['Recency'], 5, labels=[5, 4, 3, 2, 1])\n",
    "# Total number of purchases.The least frequency gets 1 and the maximum frequency gets 5.\n",
    "rfm[\"frequency_score\"] = pd.qcut(rfm[\"Frequency\"].rank(method=\"first\"), 5, labels=[1, 2, 3, 4, 5])\n",
    "#Total spend by the customer.The least money gets 1, the most money gets 5.\n",
    "rfm[\"monetary_score\"]= pd.qcut(rfm[\"Monetary\"],5,labels=[1,2,3,4,5])\n",
    "rfm.head()"
   ]
  },
  {
   "cell_type": "code",
   "execution_count": 18,
   "id": "7fee31eb",
   "metadata": {
    "execution": {
     "iopub.execute_input": "2021-12-26T17:31:21.414947Z",
     "iopub.status.busy": "2021-12-26T17:31:21.413943Z",
     "iopub.status.idle": "2021-12-26T17:31:21.421776Z",
     "shell.execute_reply": "2021-12-26T17:31:21.422308Z"
    },
    "papermill": {
     "duration": 0.037502,
     "end_time": "2021-12-26T17:31:21.422507",
     "exception": false,
     "start_time": "2021-12-26T17:31:21.385005",
     "status": "completed"
    },
    "tags": []
   },
   "outputs": [],
   "source": [
    "#RFM - The value of 2 different variables that were formed was recorded as a RFM_SCORE\n",
    "rfm[\"RFM_SCORE\"] = (rfm[\"recency_score\"].astype(str) + rfm[\"frequency_score\"].astype(str))"
   ]
  },
  {
   "cell_type": "markdown",
   "id": "b7dd4881",
   "metadata": {
    "papermill": {
     "duration": 0.024837,
     "end_time": "2021-12-26T17:31:21.472632",
     "exception": false,
     "start_time": "2021-12-26T17:31:21.447795",
     "status": "completed"
    },
    "tags": []
   },
   "source": [
    "# **Segmenting Customers Using RFM Score**"
   ]
  },
  {
   "cell_type": "code",
   "execution_count": 19,
   "id": "5c93b8c3",
   "metadata": {
    "execution": {
     "iopub.execute_input": "2021-12-26T17:31:21.527166Z",
     "iopub.status.busy": "2021-12-26T17:31:21.526195Z",
     "iopub.status.idle": "2021-12-26T17:31:21.630237Z",
     "shell.execute_reply": "2021-12-26T17:31:21.629704Z"
    },
    "papermill": {
     "duration": 0.132731,
     "end_time": "2021-12-26T17:31:21.630393",
     "exception": false,
     "start_time": "2021-12-26T17:31:21.497662",
     "status": "completed"
    },
    "tags": []
   },
   "outputs": [
    {
     "data": {
      "text/html": [
       "<div>\n",
       "<style scoped>\n",
       "    .dataframe tbody tr th:only-of-type {\n",
       "        vertical-align: middle;\n",
       "    }\n",
       "\n",
       "    .dataframe tbody tr th {\n",
       "        vertical-align: top;\n",
       "    }\n",
       "\n",
       "    .dataframe thead th {\n",
       "        text-align: right;\n",
       "    }\n",
       "</style>\n",
       "<table border=\"1\" class=\"dataframe\">\n",
       "  <thead>\n",
       "    <tr style=\"text-align: right;\">\n",
       "      <th></th>\n",
       "      <th>Recency</th>\n",
       "      <th>Frequency</th>\n",
       "      <th>Monetary</th>\n",
       "      <th>recency_score</th>\n",
       "      <th>frequency_score</th>\n",
       "      <th>monetary_score</th>\n",
       "      <th>RFM_SCORE</th>\n",
       "      <th>segment</th>\n",
       "    </tr>\n",
       "    <tr>\n",
       "      <th>CustomerID</th>\n",
       "      <th></th>\n",
       "      <th></th>\n",
       "      <th></th>\n",
       "      <th></th>\n",
       "      <th></th>\n",
       "      <th></th>\n",
       "      <th></th>\n",
       "      <th></th>\n",
       "    </tr>\n",
       "  </thead>\n",
       "  <tbody>\n",
       "    <tr>\n",
       "      <th>12346</th>\n",
       "      <td>326</td>\n",
       "      <td>1</td>\n",
       "      <td>77183.60</td>\n",
       "      <td>1</td>\n",
       "      <td>1</td>\n",
       "      <td>5</td>\n",
       "      <td>11</td>\n",
       "      <td>hibernating</td>\n",
       "    </tr>\n",
       "    <tr>\n",
       "      <th>12347</th>\n",
       "      <td>3</td>\n",
       "      <td>7</td>\n",
       "      <td>4310.00</td>\n",
       "      <td>5</td>\n",
       "      <td>5</td>\n",
       "      <td>5</td>\n",
       "      <td>55</td>\n",
       "      <td>champions</td>\n",
       "    </tr>\n",
       "    <tr>\n",
       "      <th>12348</th>\n",
       "      <td>76</td>\n",
       "      <td>4</td>\n",
       "      <td>1797.24</td>\n",
       "      <td>2</td>\n",
       "      <td>4</td>\n",
       "      <td>4</td>\n",
       "      <td>24</td>\n",
       "      <td>at_Risk</td>\n",
       "    </tr>\n",
       "    <tr>\n",
       "      <th>12349</th>\n",
       "      <td>19</td>\n",
       "      <td>1</td>\n",
       "      <td>1757.55</td>\n",
       "      <td>4</td>\n",
       "      <td>1</td>\n",
       "      <td>4</td>\n",
       "      <td>41</td>\n",
       "      <td>promising</td>\n",
       "    </tr>\n",
       "    <tr>\n",
       "      <th>12350</th>\n",
       "      <td>311</td>\n",
       "      <td>1</td>\n",
       "      <td>334.40</td>\n",
       "      <td>1</td>\n",
       "      <td>1</td>\n",
       "      <td>2</td>\n",
       "      <td>11</td>\n",
       "      <td>hibernating</td>\n",
       "    </tr>\n",
       "  </tbody>\n",
       "</table>\n",
       "</div>"
      ],
      "text/plain": [
       "            Recency  Frequency  Monetary recency_score frequency_score  \\\n",
       "CustomerID                                                               \n",
       "12346           326          1  77183.60             1               1   \n",
       "12347             3          7   4310.00             5               5   \n",
       "12348            76          4   1797.24             2               4   \n",
       "12349            19          1   1757.55             4               1   \n",
       "12350           311          1    334.40             1               1   \n",
       "\n",
       "           monetary_score RFM_SCORE      segment  \n",
       "CustomerID                                        \n",
       "12346                   5        11  hibernating  \n",
       "12347                   5        55    champions  \n",
       "12348                   4        24      at_Risk  \n",
       "12349                   4        41    promising  \n",
       "12350                   2        11  hibernating  "
      ]
     },
     "execution_count": 19,
     "metadata": {},
     "output_type": "execute_result"
    }
   ],
   "source": [
    "seg_map = {\n",
    "    r'[1-2][1-2]': 'hibernating',\n",
    "    r'[1-2][3-4]': 'at_Risk',\n",
    "    r'[1-2]5': 'cant_loose',\n",
    "    r'3[1-2]': 'about_to_sleep',\n",
    "    r'33': 'need_attention',\n",
    "    r'[3-4][4-5]': 'loyal_customers',\n",
    "    r'41': 'promising',\n",
    "    r'51': 'new_customers',\n",
    "    r'[4-5][2-3]': 'potential_loyalists',\n",
    "    r'5[4-5]': 'champions'\n",
    "}\n",
    "rfm['segment'] = rfm['RFM_SCORE'].replace(seg_map, regex=True)\n",
    "rfm.head()"
   ]
  },
  {
   "cell_type": "markdown",
   "id": "69b0b405",
   "metadata": {
    "papermill": {
     "duration": 0.025694,
     "end_time": "2021-12-26T17:31:21.682006",
     "exception": false,
     "start_time": "2021-12-26T17:31:21.656312",
     "status": "completed"
    },
    "tags": []
   },
   "source": [
    "# **Interpretation of Descriptive Statistics of Segments**"
   ]
  },
  {
   "cell_type": "code",
   "execution_count": 20,
   "id": "86abb1bd",
   "metadata": {
    "execution": {
     "iopub.execute_input": "2021-12-26T17:31:21.739986Z",
     "iopub.status.busy": "2021-12-26T17:31:21.736069Z",
     "iopub.status.idle": "2021-12-26T17:31:21.777423Z",
     "shell.execute_reply": "2021-12-26T17:31:21.777937Z"
    },
    "papermill": {
     "duration": 0.070292,
     "end_time": "2021-12-26T17:31:21.778131",
     "exception": false,
     "start_time": "2021-12-26T17:31:21.707839",
     "status": "completed"
    },
    "tags": []
   },
   "outputs": [
    {
     "data": {
      "text/html": [
       "<div>\n",
       "<style scoped>\n",
       "    .dataframe tbody tr th:only-of-type {\n",
       "        vertical-align: middle;\n",
       "    }\n",
       "\n",
       "    .dataframe tbody tr th {\n",
       "        vertical-align: top;\n",
       "    }\n",
       "\n",
       "    .dataframe thead tr th {\n",
       "        text-align: left;\n",
       "    }\n",
       "\n",
       "    .dataframe thead tr:last-of-type th {\n",
       "        text-align: right;\n",
       "    }\n",
       "</style>\n",
       "<table border=\"1\" class=\"dataframe\">\n",
       "  <thead>\n",
       "    <tr>\n",
       "      <th></th>\n",
       "      <th colspan=\"3\" halign=\"left\">Recency</th>\n",
       "      <th colspan=\"3\" halign=\"left\">Frequency</th>\n",
       "      <th colspan=\"3\" halign=\"left\">Monetary</th>\n",
       "    </tr>\n",
       "    <tr>\n",
       "      <th></th>\n",
       "      <th>mean</th>\n",
       "      <th>count</th>\n",
       "      <th>max</th>\n",
       "      <th>mean</th>\n",
       "      <th>count</th>\n",
       "      <th>max</th>\n",
       "      <th>mean</th>\n",
       "      <th>count</th>\n",
       "      <th>max</th>\n",
       "    </tr>\n",
       "    <tr>\n",
       "      <th>segment</th>\n",
       "      <th></th>\n",
       "      <th></th>\n",
       "      <th></th>\n",
       "      <th></th>\n",
       "      <th></th>\n",
       "      <th></th>\n",
       "      <th></th>\n",
       "      <th></th>\n",
       "      <th></th>\n",
       "    </tr>\n",
       "  </thead>\n",
       "  <tbody>\n",
       "    <tr>\n",
       "      <th>about_to_sleep</th>\n",
       "      <td>53.0</td>\n",
       "      <td>352</td>\n",
       "      <td>72</td>\n",
       "      <td>1.0</td>\n",
       "      <td>352</td>\n",
       "      <td>2</td>\n",
       "      <td>472.0</td>\n",
       "      <td>352</td>\n",
       "      <td>6208.0</td>\n",
       "    </tr>\n",
       "    <tr>\n",
       "      <th>at_Risk</th>\n",
       "      <td>154.0</td>\n",
       "      <td>593</td>\n",
       "      <td>374</td>\n",
       "      <td>3.0</td>\n",
       "      <td>593</td>\n",
       "      <td>6</td>\n",
       "      <td>1085.0</td>\n",
       "      <td>593</td>\n",
       "      <td>44534.0</td>\n",
       "    </tr>\n",
       "    <tr>\n",
       "      <th>cant_loose</th>\n",
       "      <td>133.0</td>\n",
       "      <td>63</td>\n",
       "      <td>373</td>\n",
       "      <td>8.0</td>\n",
       "      <td>63</td>\n",
       "      <td>34</td>\n",
       "      <td>2796.0</td>\n",
       "      <td>63</td>\n",
       "      <td>10254.0</td>\n",
       "    </tr>\n",
       "    <tr>\n",
       "      <th>champions</th>\n",
       "      <td>6.0</td>\n",
       "      <td>633</td>\n",
       "      <td>13</td>\n",
       "      <td>12.0</td>\n",
       "      <td>633</td>\n",
       "      <td>210</td>\n",
       "      <td>6858.0</td>\n",
       "      <td>633</td>\n",
       "      <td>280206.0</td>\n",
       "    </tr>\n",
       "    <tr>\n",
       "      <th>hibernating</th>\n",
       "      <td>218.0</td>\n",
       "      <td>1071</td>\n",
       "      <td>374</td>\n",
       "      <td>1.0</td>\n",
       "      <td>1071</td>\n",
       "      <td>2</td>\n",
       "      <td>489.0</td>\n",
       "      <td>1071</td>\n",
       "      <td>77184.0</td>\n",
       "    </tr>\n",
       "    <tr>\n",
       "      <th>loyal_customers</th>\n",
       "      <td>34.0</td>\n",
       "      <td>819</td>\n",
       "      <td>72</td>\n",
       "      <td>6.0</td>\n",
       "      <td>819</td>\n",
       "      <td>63</td>\n",
       "      <td>2864.0</td>\n",
       "      <td>819</td>\n",
       "      <td>124915.0</td>\n",
       "    </tr>\n",
       "    <tr>\n",
       "      <th>need_attention</th>\n",
       "      <td>52.0</td>\n",
       "      <td>187</td>\n",
       "      <td>72</td>\n",
       "      <td>2.0</td>\n",
       "      <td>187</td>\n",
       "      <td>3</td>\n",
       "      <td>898.0</td>\n",
       "      <td>187</td>\n",
       "      <td>12602.0</td>\n",
       "    </tr>\n",
       "    <tr>\n",
       "      <th>new_customers</th>\n",
       "      <td>7.0</td>\n",
       "      <td>42</td>\n",
       "      <td>13</td>\n",
       "      <td>1.0</td>\n",
       "      <td>42</td>\n",
       "      <td>1</td>\n",
       "      <td>388.0</td>\n",
       "      <td>42</td>\n",
       "      <td>3861.0</td>\n",
       "    </tr>\n",
       "    <tr>\n",
       "      <th>potential_loyalists</th>\n",
       "      <td>17.0</td>\n",
       "      <td>484</td>\n",
       "      <td>33</td>\n",
       "      <td>2.0</td>\n",
       "      <td>484</td>\n",
       "      <td>3</td>\n",
       "      <td>1041.0</td>\n",
       "      <td>484</td>\n",
       "      <td>168472.0</td>\n",
       "    </tr>\n",
       "    <tr>\n",
       "      <th>promising</th>\n",
       "      <td>24.0</td>\n",
       "      <td>94</td>\n",
       "      <td>33</td>\n",
       "      <td>1.0</td>\n",
       "      <td>94</td>\n",
       "      <td>1</td>\n",
       "      <td>294.0</td>\n",
       "      <td>94</td>\n",
       "      <td>1758.0</td>\n",
       "    </tr>\n",
       "  </tbody>\n",
       "</table>\n",
       "</div>"
      ],
      "text/plain": [
       "                    Recency            Frequency            Monetary        \\\n",
       "                       mean count  max      mean count  max     mean count   \n",
       "segment                                                                      \n",
       "about_to_sleep         53.0   352   72       1.0   352    2    472.0   352   \n",
       "at_Risk               154.0   593  374       3.0   593    6   1085.0   593   \n",
       "cant_loose            133.0    63  373       8.0    63   34   2796.0    63   \n",
       "champions               6.0   633   13      12.0   633  210   6858.0   633   \n",
       "hibernating           218.0  1071  374       1.0  1071    2    489.0  1071   \n",
       "loyal_customers        34.0   819   72       6.0   819   63   2864.0   819   \n",
       "need_attention         52.0   187   72       2.0   187    3    898.0   187   \n",
       "new_customers           7.0    42   13       1.0    42    1    388.0    42   \n",
       "potential_loyalists    17.0   484   33       2.0   484    3   1041.0   484   \n",
       "promising              24.0    94   33       1.0    94    1    294.0    94   \n",
       "\n",
       "                               \n",
       "                          max  \n",
       "segment                        \n",
       "about_to_sleep         6208.0  \n",
       "at_Risk               44534.0  \n",
       "cant_loose            10254.0  \n",
       "champions            280206.0  \n",
       "hibernating           77184.0  \n",
       "loyal_customers      124915.0  \n",
       "need_attention        12602.0  \n",
       "new_customers          3861.0  \n",
       "potential_loyalists  168472.0  \n",
       "promising              1758.0  "
      ]
     },
     "execution_count": 20,
     "metadata": {},
     "output_type": "execute_result"
    }
   ],
   "source": [
    "rfm[[\"segment\", \"Recency\",\"Frequency\",\"Monetary\"]].groupby(\"segment\").agg([\"mean\",\"count\",\"max\"]).round()"
   ]
  },
  {
   "cell_type": "markdown",
   "id": "76c03566",
   "metadata": {
    "papermill": {
     "duration": 0.026657,
     "end_time": "2021-12-26T17:31:21.831431",
     "exception": false,
     "start_time": "2021-12-26T17:31:21.804774",
     "status": "completed"
    },
    "tags": []
   },
   "source": [
    "# **Reviews About the Segments**"
   ]
  },
  {
   "cell_type": "markdown",
   "id": "374521da",
   "metadata": {
    "papermill": {
     "duration": 0.026026,
     "end_time": "2021-12-26T17:31:21.883899",
     "exception": false,
     "start_time": "2021-12-26T17:31:21.857873",
     "status": "completed"
    },
    "tags": []
   },
   "source": [
    "**Cant Loose**\n",
    "\n",
    "* There are 63 people in this segment.\n",
    "* Shopping was done on average 133 days ago.\n",
    "* The frequency of shopping is 8, the total number of purchases is 63.\n",
    "* A total of £102,54 has been spent.\n",
    "\n",
    "**Action:** Even if the last purchase was made 133 days, the total number of purchases is high. It is a group of customers who do not come for a long time, but also make a lot of purchases when they come. We can analyze the process by sending surveys to these customers, and we can be changed by sharing personalized campaigns by e-mail."
   ]
  },
  {
   "cell_type": "markdown",
   "id": "6e8c2bc5",
   "metadata": {
    "papermill": {
     "duration": 0.025882,
     "end_time": "2021-12-26T17:31:21.936154",
     "exception": false,
     "start_time": "2021-12-26T17:31:21.910272",
     "status": "completed"
    },
    "tags": []
   },
   "source": [
    "**Need Attention**\n",
    "\n",
    "* There are 187 people in this segment.\n",
    "* Shopping was done on average 52 days ago.\n",
    "* The frequency of shopping is 2, the total number of purchases is 3.\n",
    "* A total of £12,602 has been spent.\n",
    "\n",
    "**Action:** These customers need to be reminded of the brand.So, short-term discounts can be made to remind these customers of our brand and allow them to shop again.\n"
   ]
  }
 ],
 "metadata": {
  "kernelspec": {
   "display_name": "Python 3 (ipykernel)",
   "language": "python",
   "name": "python3"
  },
  "language_info": {
   "codemirror_mode": {
    "name": "ipython",
    "version": 3
   },
   "file_extension": ".py",
   "mimetype": "text/x-python",
   "name": "python",
   "nbconvert_exporter": "python",
   "pygments_lexer": "ipython3",
   "version": "3.9.7"
  },
  "papermill": {
   "default_parameters": {},
   "duration": 116.476889,
   "end_time": "2021-12-26T17:31:22.877752",
   "environment_variables": {},
   "exception": null,
   "input_path": "__notebook__.ipynb",
   "output_path": "__notebook__.ipynb",
   "parameters": {},
   "start_time": "2021-12-26T17:29:26.400863",
   "version": "2.3.3"
  },
  "toc": {
   "base_numbering": 1,
   "nav_menu": {},
   "number_sections": true,
   "sideBar": true,
   "skip_h1_title": false,
   "title_cell": "Table of Contents",
   "title_sidebar": "Contents",
   "toc_cell": false,
   "toc_position": {},
   "toc_section_display": true,
   "toc_window_display": false
  },
  "varInspector": {
   "cols": {
    "lenName": 16,
    "lenType": 16,
    "lenVar": 40
   },
   "kernels_config": {
    "python": {
     "delete_cmd_postfix": "",
     "delete_cmd_prefix": "del ",
     "library": "var_list.py",
     "varRefreshCmd": "print(var_dic_list())"
    },
    "r": {
     "delete_cmd_postfix": ") ",
     "delete_cmd_prefix": "rm(",
     "library": "var_list.r",
     "varRefreshCmd": "cat(var_dic_list()) "
    }
   },
   "types_to_exclude": [
    "module",
    "function",
    "builtin_function_or_method",
    "instance",
    "_Feature"
   ],
   "window_display": false
  }
 },
 "nbformat": 4,
 "nbformat_minor": 5
}
